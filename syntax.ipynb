{
 "cells": [
  {
   "cell_type": "code",
   "execution_count": 7,
   "metadata": {},
   "outputs": [
    {
     "data": {
      "text/plain": [
       "<matplotlib.image.AxesImage at 0x18de62915b0>"
      ]
     },
     "execution_count": 7,
     "metadata": {},
     "output_type": "execute_result"
    },
    {
     "data": {
      "image/png": "[encoded data removed]",
      "text/plain": [
       "<Figure size 640x480 with 1 Axes>"
      ]
     },
     "metadata": {},
     "output_type": "display_data"
    }
   ],
   "source": [
    "import torch\n",
    "\n",
    "height = 256\n",
    "width = 256\n",
    "gt_image = torch.ones((height, width, 3)) * 1.0\n",
    "# make a red and blue checker square pattern\n",
    "for i in range(height):\n",
    "    for j in range(width):\n",
    "        if (i // 32) % 2 == 0:\n",
    "            if (j // 32) % 2 == 0:\n",
    "                gt_image[i, j] = torch.tensor([1.0, 0.0, 0.0])\n",
    "        else:\n",
    "            if (j // 32) % 2 == 1:\n",
    "                gt_image[i, j] = torch.tensor([0.0, 0.0, 1.0])\n",
    "\n",
    "# show tensor as image\n",
    "import matplotlib.pyplot as plt\n",
    "plt.imshow(gt_image)"
   ]
  },
  {
   "cell_type": "markdown",
   "metadata": {},
   "source": [
    "# struct module in python"
   ]
  },
  {
   "cell_type": "code",
   "execution_count": 4,
   "metadata": {},
   "outputs": [
    {
     "name": "stdout",
     "output_type": "stream",
     "text": [
      "b'\\x01\\x00\\x00\\x00\\x02\\x00\\x00\\x00\\x03\\x00\\x00\\x00'\n",
      "12 12\n"
     ]
    }
   ],
   "source": [
    "import struct\n",
    "import numpy as np\n",
    "\n",
    "\n",
    "packed_struct = struct.pack('iii', 1, 2, 3)\n",
    "print(packed_struct)\n",
    "print(struct.calcsize('iii'), struct.calcsize('3i'))"
   ]
  },
  {
   "cell_type": "code",
   "execution_count": 25,
   "metadata": {},
   "outputs": [
    {
     "name": "stdout",
     "output_type": "stream",
     "text": [
      "64\n",
      "64\n",
      "68\n",
      "18446744073709551615\n"
     ]
    }
   ],
   "source": [
    "image_struct = struct.Struct('<IdddddddI')\n",
    "print(image_struct.size)\n",
    "image_struct = struct.Struct('<I 4d 3d I')\n",
    "print(image_struct.size)  \n",
    "image_struct = struct.Struct('IdddddddI')\n",
    "print(image_struct.size)\n",
    "\n",
    "# print(np.uint64(-1))\n",
    "print(np.array(-1).astype(np.uint64))"
   ]
  },
  {
   "cell_type": "code",
   "execution_count": 27,
   "metadata": {},
   "outputs": [
    {
     "name": "stdout",
     "output_type": "stream",
     "text": [
      "51\n",
      "56\n",
      "51\n"
     ]
    }
   ],
   "source": [
    "data_struct = struct.Struct('<Q 3d 3B d Q')\n",
    "print(data_struct.size)\n",
    "data_struct = struct.Struct('QdddBBBdQ')\n",
    "print(data_struct.size)\n",
    "data_struct = struct.Struct('<QdddBBBdQ')\n",
    "print(data_struct.size)"
   ]
  }
 ],
 "metadata": {
  "kernelspec": {
   "display_name": "gaussian_splatting",
   "language": "python",
   "name": "python3"
  },
  "language_info": {
   "codemirror_mode": {
    "name": "ipython",
    "version": 3
   },
   "file_extension": ".py",
   "mimetype": "text/x-python",
   "name": "python",
   "nbconvert_exporter": "python",
   "pygments_lexer": "ipython3",
   "version": "3.8.19"
  }
 },
 "nbformat": 4,
 "nbformat_minor": 2
}
